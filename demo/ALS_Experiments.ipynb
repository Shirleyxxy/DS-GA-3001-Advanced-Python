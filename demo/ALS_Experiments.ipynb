{
 "cells": [
  {
   "cell_type": "code",
   "execution_count": 1,
   "metadata": {},
   "outputs": [],
   "source": [
    "import os \n",
    "import sys\n",
    "src_dir = os.path.join(os.path.abspath('..'),'src/')\n",
    "sys.path.append(src_dir)"
   ]
  },
  {
   "cell_type": "code",
   "execution_count": 2,
   "metadata": {},
   "outputs": [],
   "source": [
    "import numpy as np\n",
    "import pandas as pd\n",
    "import scipy.sparse as sparse\n",
    "import time\n",
    "from common.preprocess.data_process import generate_userByItem, split, load_movies\n",
    "from models.als.model import implicit_als, implicit_als_cg\n",
    "from models.als.model_jit import implicit_als_cg_jit\n",
    "from common.serving.recommder_als import recommend, real_watched_movie\n",
    "from evaluation.evaluate import MAP, precision"
   ]
  },
  {
   "cell_type": "markdown",
   "metadata": {},
   "source": [
    "## Preprocess data"
   ]
  },
  {
   "cell_type": "code",
   "execution_count": 3,
   "metadata": {},
   "outputs": [
    {
     "name": "stdout",
     "output_type": "stream",
     "text": [
      "Loading and pivoting ratings data...\n",
      "Maximum number of movies watched by a user: 2698\n",
      "Minimum number of movies watched by a user: 20\n",
      "Done\n"
     ]
    }
   ],
   "source": [
    "full_sparse = generate_userByItem('/Users/zihaoguo/NYU/ADPY/DS-GA-3001-Advanced-Python/data/ratings.csv', \\\n",
    "                                  ['userId', 'movieId', 'rating'], dense =True, info =True)"
   ]
  },
  {
   "cell_type": "code",
   "execution_count": 4,
   "metadata": {},
   "outputs": [
    {
     "name": "stdout",
     "output_type": "stream",
     "text": [
      "Assign 10 movies for each user to test and the rest to train\n",
      "Splitting data into train and test...\n",
      "Done\n"
     ]
    }
   ],
   "source": [
    "train_sparse, test_sparse = split(full_sparse, dense = True)"
   ]
  },
  {
   "cell_type": "code",
   "execution_count": 5,
   "metadata": {},
   "outputs": [
    {
     "name": "stdout",
     "output_type": "stream",
     "text": [
      "Loading and preprocessing movies data...\n",
      "Generating lookup table for movie index...\n",
      "Done\n"
     ]
    }
   ],
   "source": [
    "movies, movieId_lookup = load_movies('/Users/zihaoguo/NYU/ADPY/DS-GA-3001-Advanced-Python/data/movies.csv')"
   ]
  },
  {
   "cell_type": "markdown",
   "metadata": {},
   "source": [
    "## Model"
   ]
  },
  {
   "cell_type": "markdown",
   "metadata": {},
   "source": [
    "### ALS without conjugate gradient"
   ]
  },
  {
   "cell_type": "code",
   "execution_count": 50,
   "metadata": {},
   "outputs": [
    {
     "name": "stdout",
     "output_type": "stream",
     "text": [
      "iteration 1 of 20\n",
      "iteration 2 of 20\n",
      "iteration 3 of 20\n",
      "iteration 4 of 20\n",
      "iteration 5 of 20\n",
      "iteration 6 of 20\n",
      "iteration 7 of 20\n",
      "iteration 8 of 20\n",
      "iteration 9 of 20\n",
      "iteration 10 of 20\n",
      "iteration 11 of 20\n",
      "iteration 12 of 20\n",
      "iteration 13 of 20\n",
      "iteration 14 of 20\n",
      "iteration 15 of 20\n",
      "iteration 16 of 20\n",
      "iteration 17 of 20\n",
      "iteration 18 of 20\n",
      "iteration 19 of 20\n",
      "iteration 20 of 20\n",
      "training time without conjugate gradient: 470.45930099487305s\n"
     ]
    }
   ],
   "source": [
    "start = time.time()\n",
    "user_vecs, item_vecs = implicit_als(train_sparse, alpha_val=15, iterations=20, lambda_val=0.1, features=20)\n",
    "end = time.time()\n",
    "print('training time without conjugate gradient: {}s'.format(end-start))"
   ]
  },
  {
   "cell_type": "code",
   "execution_count": 59,
   "metadata": {},
   "outputs": [],
   "source": [
    "## Save models\n",
    "# sparse.save_npz(\"/Users/zihaoguo/NYU/ADPY/DS-GA-3001-Advanced-Python/src/models/als/saved_models/users.npz\", user_vecs)\n",
    "# sparse.save_npz(\"/Users/zihaoguo/NYU/ADPY/DS-GA-3001-Advanced-Python/src/models/als/saved_models/movies.npz\", item_vecs)"
   ]
  },
  {
   "cell_type": "code",
   "execution_count": 6,
   "metadata": {},
   "outputs": [],
   "source": [
    "## reload models\n",
    "user_vecs = sparse.load_npz(\"/Users/zihaoguo/NYU/ADPY/DS-GA-3001-Advanced-Python/src/models/als/saved_models/users.npz\")\n",
    "item_vecs = sparse.load_npz(\"/Users/zihaoguo/NYU/ADPY/DS-GA-3001-Advanced-Python/src/models/als/saved_models/movies.npz\")"
   ]
  },
  {
   "cell_type": "markdown",
   "metadata": {},
   "source": [
    "### Recommendation"
   ]
  },
  {
   "cell_type": "code",
   "execution_count": 7,
   "metadata": {},
   "outputs": [],
   "source": [
    "# get rec and true\n",
    "rec_arr = recommend(train_sparse, user_vecs, item_vecs, num_items = 10)\n",
    "true_arr = real_watched_movie(test_sparse)"
   ]
  },
  {
   "cell_type": "code",
   "execution_count": 8,
   "metadata": {},
   "outputs": [
    {
     "name": "stdout",
     "output_type": "stream",
     "text": [
      "The average precision: 0.113\n"
     ]
    }
   ],
   "source": [
    "p = precision(true_arr, rec_arr,10)"
   ]
  },
  {
   "cell_type": "code",
   "execution_count": 9,
   "metadata": {},
   "outputs": [
    {
     "name": "stdout",
     "output_type": "stream",
     "text": [
      "The mean average prevision(MAP): 0.073\n"
     ]
    }
   ],
   "source": [
    "m = MAP(true_arr, rec_arr,10)"
   ]
  },
  {
   "cell_type": "markdown",
   "metadata": {},
   "source": [
    "### ALS with Conjugate Gradient"
   ]
  },
  {
   "cell_type": "code",
   "execution_count": 92,
   "metadata": {},
   "outputs": [
    {
     "name": "stdout",
     "output_type": "stream",
     "text": [
      "iteration 1 of 20\n",
      "iteration 2 of 20\n",
      "iteration 3 of 20\n",
      "iteration 4 of 20\n",
      "iteration 5 of 20\n",
      "iteration 6 of 20\n",
      "iteration 7 of 20\n",
      "iteration 8 of 20\n",
      "iteration 9 of 20\n",
      "iteration 10 of 20\n",
      "iteration 11 of 20\n",
      "iteration 12 of 20\n",
      "iteration 13 of 20\n",
      "iteration 14 of 20\n",
      "iteration 15 of 20\n",
      "iteration 16 of 20\n",
      "iteration 17 of 20\n",
      "iteration 18 of 20\n",
      "iteration 19 of 20\n",
      "iteration 20 of 20\n",
      "training time with conjugate gradient: 73.73181581497192s\n"
     ]
    }
   ],
   "source": [
    "start = time.time()\n",
    "user_vecs_cg, item_vecs_cg = implicit_als_cg(train_sparse, alpha_val=15, iterations=20, lambda_val=0.1, features=20)\n",
    "end = time.time()\n",
    "print('training time with conjugate gradient: {}s'.format(end-start))"
   ]
  },
  {
   "cell_type": "code",
   "execution_count": 94,
   "metadata": {},
   "outputs": [],
   "source": [
    "## Save models\n",
    "# sparse.save_npz(\"/Users/zihaoguo/NYU/ADPY/DS-GA-3001-Advanced-Python/src/models/als/saved_models/users_cg.npz\", user_vecs_cg)\n",
    "# sparse.save_npz(\"/Users/zihaoguo/NYU/ADPY/DS-GA-3001-Advanced-Python/src/models/als/saved_models/movies_cg.npz\", item_vecs_cg)"
   ]
  },
  {
   "cell_type": "code",
   "execution_count": 10,
   "metadata": {},
   "outputs": [],
   "source": [
    "## Reload models\n",
    "user_vecs_cg = sparse.load_npz(\"/Users/zihaoguo/NYU/ADPY/DS-GA-3001-Advanced-Python/src/models/als/saved_models/users_cg.npz\")\n",
    "item_vecs_cg = sparse.load_npz(\"/Users/zihaoguo/NYU/ADPY/DS-GA-3001-Advanced-Python/src/models/als/saved_models/movies_cg.npz\")"
   ]
  },
  {
   "cell_type": "markdown",
   "metadata": {},
   "source": [
    "### Recommendation"
   ]
  },
  {
   "cell_type": "code",
   "execution_count": 11,
   "metadata": {},
   "outputs": [],
   "source": [
    "# get rec from cg als\n",
    "rec_arr_cg = recommend(train_sparse, user_vecs_cg, item_vecs_cg, num_items = 10)"
   ]
  },
  {
   "cell_type": "code",
   "execution_count": 12,
   "metadata": {},
   "outputs": [
    {
     "name": "stdout",
     "output_type": "stream",
     "text": [
      "The average precision: 0.118\n"
     ]
    },
    {
     "data": {
      "text/plain": [
       "0.1180327868852459"
      ]
     },
     "execution_count": 12,
     "metadata": {},
     "output_type": "execute_result"
    }
   ],
   "source": [
    "p_cg = precision(true_arr, rec_arr_cg, 10)"
   ]
  },
  {
   "cell_type": "code",
   "execution_count": 13,
   "metadata": {},
   "outputs": [
    {
     "name": "stdout",
     "output_type": "stream",
     "text": [
      "The mean average prevision(MAP): 0.081\n"
     ]
    },
    {
     "data": {
      "text/plain": [
       "0.08086137132448606"
      ]
     },
     "execution_count": 13,
     "metadata": {},
     "output_type": "execute_result"
    }
   ],
   "source": [
    "m_cg = MAP(true_arr, rec_arr_cg,10)"
   ]
  },
  {
   "cell_type": "markdown",
   "metadata": {},
   "source": [
    "## ALS using Conjugate Gradient with Numba JIT"
   ]
  },
  {
   "cell_type": "code",
   "execution_count": 6,
   "metadata": {},
   "outputs": [
    {
     "name": "stdout",
     "output_type": "stream",
     "text": [
      "Training time of ALS using conjugate gradient with Numba JIT optimization: 10.04761791229248s\n"
     ]
    }
   ],
   "source": [
    "start = time.time()\n",
    "user_vecs_cg_jit, item_vecs_cg_jit = implicit_als_cg_jit(train_sparse.toarray(), alpha_val=15, iterations=20, lambda_val=0.1, features=20)\n",
    "end = time.time()\n",
    "print('Training time of ALS using conjugate gradient with Numba JIT optimization: {}s'.format(end-start))"
   ]
  },
  {
   "cell_type": "code",
   "execution_count": 9,
   "metadata": {},
   "outputs": [],
   "source": [
    "## Save models\n",
    "# u = sparse.csr_matrix(user_vecs_cg_jit)\n",
    "# m = sparse.csr_matrix(item_vecs_cg_jit)\n",
    "# sparse.save_npz(\"/Users/zihaoguo/NYU/ADPY/DS-GA-3001-Advanced-Python/src/models/als/saved_models/users_cg_jit.npz\", u)\n",
    "# sparse.save_npz(\"/Users/zihaoguo/NYU/ADPY/DS-GA-3001-Advanced-Python/src/models/als/saved_models/movies_cg_jit.npz\", m)"
   ]
  },
  {
   "cell_type": "code",
   "execution_count": 11,
   "metadata": {},
   "outputs": [],
   "source": [
    "user_vecs_cg_jit = sparse.load_npz(\"/Users/zihaoguo/NYU/ADPY/DS-GA-3001-Advanced-Python/src/models/als/saved_models/users_cg_jit.npz\")\n",
    "item_vecs_cg_jit = sparse.load_npz(\"/Users/zihaoguo/NYU/ADPY/DS-GA-3001-Advanced-Python/src/models/als/saved_models/movies_cg_jit.npz\")"
   ]
  },
  {
   "cell_type": "code",
   "execution_count": 12,
   "metadata": {},
   "outputs": [],
   "source": [
    "# get rec and true\n",
    "rec_arr_cg_jit = recommend(train_sparse, sparse.csr_matrix(user_vecs_cg_jit), sparse.csr_matrix(item_vecs_cg_jit), num_items = 10)\n",
    "true_arr_cg_jit = real_watched_movie(test_sparse)"
   ]
  },
  {
   "cell_type": "code",
   "execution_count": 13,
   "metadata": {},
   "outputs": [
    {
     "name": "stdout",
     "output_type": "stream",
     "text": [
      "The average precision: 0.118\n",
      "The mean average prevision(MAP): 0.081\n"
     ]
    }
   ],
   "source": [
    "p_cg_jit = precision(true_arr_cg_jit, rec_arr_cg_jit, 10)\n",
    "map_cg_jit = MAP(true_arr_cg_jit, rec_arr_cg_jit,10)"
   ]
  },
  {
   "cell_type": "markdown",
   "metadata": {},
   "source": [
    "## ALS using Conjugate Gradient Gradient with Cython Implementation"
   ]
  },
  {
   "cell_type": "code",
   "execution_count": 6,
   "metadata": {},
   "outputs": [],
   "source": [
    "%reload_ext Cython"
   ]
  },
  {
   "cell_type": "code",
   "execution_count": 7,
   "metadata": {},
   "outputs": [],
   "source": [
    "%%cython\n",
    "import numpy as np\n",
    "cimport numpy as np\n",
    "\n",
    "## Cython implementation of ALS\n",
    "def implicit_als_cg_cython(np.ndarray[double, ndim = 2] data, int alpha_val = 15, \\\n",
    "                           int iterations=20, double lambda_val=0.1, int features=20):\n",
    "    '''\n",
    "    data is numpy array\n",
    "    return recomendation vector\n",
    "    '''\n",
    "    cdef np.ndarray[double, ndim = 2] Cui = data * alpha_val\n",
    "    cdef int user_size = Cui.shape[0]\n",
    "    cdef int item_size = Cui.shape[1]\n",
    "    \n",
    "    np.random.seed(123)\n",
    "    cdef np.ndarray[double, ndim = 2] X = np.random.rand(user_size, features) * 0.01\n",
    "    cdef np.ndarray[double, ndim = 2] Y = np.random.rand(item_size, features) * 0.01\n",
    "\n",
    "    cdef np.ndarray[double, ndim = 2] Ciu = Cui.T\n",
    "\n",
    "    for iteration in range(iterations):\n",
    "        ### print not working in numba compilier\n",
    "        print('iteration {} of {}'.format(iteration+1, iterations))\n",
    "        least_squares_cg(Cui, X, Y, lambda_val)\n",
    "        least_squares_cg(Ciu, Y, X, lambda_val)\n",
    "    \n",
    "    return X, Y\n",
    "\n",
    "##### helper functiions for implicit_als_cg\n",
    "def nonzeros(np.ndarray[double, ndim = 2] m, int row):\n",
    "    cdef np.ndarray items_user = m[row]\n",
    "    cdef np.ndarray idx = items_user.nonzero()[0]\n",
    "    return np.stack((idx, items_user[idx]), 1)\n",
    "        \n",
    "def least_squares_cg(np.ndarray[double, ndim = 2] Cui, np.ndarray[double, ndim = 2] X, \\\n",
    "                     np.ndarray[double, ndim = 2] Y, double lambda_val, int cg_steps=3):\n",
    "    cdef int users = X.shape[0]\n",
    "    cdef int features = X.shape[1]\n",
    "\n",
    "    cdef np.ndarray[double, ndim = 2] YtY = Y.T.dot(Y) + lambda_val * np.eye(features)\n",
    "    \n",
    "    # stating the type of the variables in for-loops allows \n",
    "    # for a more optimized conversion to a C loop\n",
    "    cdef int u\n",
    "    cdef int it\n",
    "    \n",
    "    ## type of varaibles in the loop\n",
    "    cdef np.ndarray x\n",
    "    cdef np.ndarray r\n",
    "    cdef int i\n",
    "    cdef double confidence\n",
    "    cdef np.ndarray p\n",
    "    cdef double rsold\n",
    "    cdef np.ndarray Ap\n",
    "    cdef double alpha\n",
    "    cdef double rsnew\n",
    "    \n",
    "    for u in range(users):\n",
    "        \n",
    "        x = X[u]\n",
    "        r = -YtY.dot(x)\n",
    "        \n",
    "        for i, confidence in nonzeros(Cui, u):\n",
    "            r += (confidence - (confidence - 1) * Y[i].dot(x)) * Y[i]\n",
    "        p = r.copy()\n",
    "        rsold = r.dot(r)\n",
    "\n",
    "        for it in range(cg_steps):\n",
    "            Ap = YtY.dot(p)\n",
    "            \n",
    "            for i, confidence in nonzeros(Cui, u):\n",
    "                Ap += (confidence - 1) * Y[i].dot(p) * Y[i]\n",
    "            \n",
    "            alpha = rsold / p.dot(Ap)\n",
    "            x += alpha * p\n",
    "            r -= alpha * Ap\n",
    "\n",
    "            rsnew = r.dot(r)\n",
    "            p = r + (rsnew / rsold) * p\n",
    "            rsold = rsnew\n",
    "\n",
    "        X[u] = x"
   ]
  },
  {
   "cell_type": "code",
   "execution_count": 8,
   "metadata": {},
   "outputs": [
    {
     "name": "stdout",
     "output_type": "stream",
     "text": [
      "iteration 1 of 20\n",
      "iteration 2 of 20\n",
      "iteration 3 of 20\n",
      "iteration 4 of 20\n",
      "iteration 5 of 20\n",
      "iteration 6 of 20\n",
      "iteration 7 of 20\n",
      "iteration 8 of 20\n",
      "iteration 9 of 20\n",
      "iteration 10 of 20\n",
      "iteration 11 of 20\n",
      "iteration 12 of 20\n",
      "iteration 13 of 20\n",
      "iteration 14 of 20\n",
      "iteration 15 of 20\n",
      "iteration 16 of 20\n",
      "iteration 17 of 20\n",
      "iteration 18 of 20\n",
      "iteration 19 of 20\n",
      "iteration 20 of 20\n",
      "Training time of ALS using conjugate gradient with Cython optimization: 82.66664981842041s\n"
     ]
    }
   ],
   "source": [
    "start = time.time()\n",
    "user_vecs_cg_cython, item_vecs_cg_cython = implicit_als_cg_cython(train_sparse.toarray(), alpha_val=15, iterations=20, lambda_val=0.1, features=20)\n",
    "end = time.time()\n",
    "print('Training time of ALS using conjugate gradient with Cython optimization: {}s'.format(end-start))"
   ]
  },
  {
   "cell_type": "code",
   "execution_count": 9,
   "metadata": {},
   "outputs": [],
   "source": [
    "# get rec and true\n",
    "rec_arr_cg_cython = recommend(train_sparse, sparse.csr_matrix(user_vecs_cg_cython), sparse.csr_matrix(item_vecs_cg_cython), num_items = 10)\n",
    "true_arr_cg_cython = real_watched_movie(test_sparse)"
   ]
  },
  {
   "cell_type": "code",
   "execution_count": 10,
   "metadata": {},
   "outputs": [
    {
     "name": "stdout",
     "output_type": "stream",
     "text": [
      "The average precision: 0.118\n",
      "The mean average prevision(MAP): 0.081\n"
     ]
    }
   ],
   "source": [
    "p_cg_cython = precision(true_arr_cg_cython, rec_arr_cg_cython, 10)\n",
    "map_cg_cython = MAP(true_arr_cg_cython, rec_arr_cg_cython,10)"
   ]
  },
  {
   "cell_type": "markdown",
   "metadata": {},
   "source": [
    "## Examine recommendation for user 123 using 2 ALS algorithms"
   ]
  },
  {
   "cell_type": "code",
   "execution_count": 32,
   "metadata": {},
   "outputs": [
    {
     "data": {
      "text/html": [
       "<div>\n",
       "<style scoped>\n",
       "    .dataframe tbody tr th:only-of-type {\n",
       "        vertical-align: middle;\n",
       "    }\n",
       "\n",
       "    .dataframe tbody tr th {\n",
       "        vertical-align: top;\n",
       "    }\n",
       "\n",
       "    .dataframe thead th {\n",
       "        text-align: right;\n",
       "    }\n",
       "</style>\n",
       "<table border=\"1\" class=\"dataframe\">\n",
       "  <thead>\n",
       "    <tr style=\"text-align: right;\">\n",
       "      <th></th>\n",
       "      <th>movieId</th>\n",
       "      <th>title</th>\n",
       "      <th>genres</th>\n",
       "    </tr>\n",
       "  </thead>\n",
       "  <tbody>\n",
       "    <tr>\n",
       "      <th>314</th>\n",
       "      <td>356</td>\n",
       "      <td>Forrest Gump (1994)</td>\n",
       "      <td>Comedy|Drama|Romance|War</td>\n",
       "    </tr>\n",
       "    <tr>\n",
       "      <th>461</th>\n",
       "      <td>527</td>\n",
       "      <td>Schindler's List (1993)</td>\n",
       "      <td>Drama|War</td>\n",
       "    </tr>\n",
       "    <tr>\n",
       "      <th>613</th>\n",
       "      <td>778</td>\n",
       "      <td>Trainspotting (1996)</td>\n",
       "      <td>Comedy|Crime|Drama</td>\n",
       "    </tr>\n",
       "    <tr>\n",
       "      <th>659</th>\n",
       "      <td>858</td>\n",
       "      <td>Godfather, The (1972)</td>\n",
       "      <td>Crime|Drama</td>\n",
       "    </tr>\n",
       "    <tr>\n",
       "      <th>1283</th>\n",
       "      <td>1703</td>\n",
       "      <td>For Richer or Poorer (1997)</td>\n",
       "      <td>Comedy</td>\n",
       "    </tr>\n",
       "    <tr>\n",
       "      <th>1290</th>\n",
       "      <td>1719</td>\n",
       "      <td>Sweet Hereafter, The (1997)</td>\n",
       "      <td>Drama</td>\n",
       "    </tr>\n",
       "    <tr>\n",
       "      <th>1502</th>\n",
       "      <td>2027</td>\n",
       "      <td>Jane Austen's Mafia! (1998)</td>\n",
       "      <td>Comedy|Crime</td>\n",
       "    </tr>\n",
       "    <tr>\n",
       "      <th>1938</th>\n",
       "      <td>2570</td>\n",
       "      <td>Walk on the Moon, A (1999)</td>\n",
       "      <td>Drama|Romance</td>\n",
       "    </tr>\n",
       "    <tr>\n",
       "      <th>2077</th>\n",
       "      <td>2761</td>\n",
       "      <td>Iron Giant, The (1999)</td>\n",
       "      <td>Adventure|Animation|Children|Drama|Sci-Fi</td>\n",
       "    </tr>\n",
       "    <tr>\n",
       "      <th>2224</th>\n",
       "      <td>2953</td>\n",
       "      <td>Home Alone 2: Lost in New York (1992)</td>\n",
       "      <td>Children|Comedy</td>\n",
       "    </tr>\n",
       "  </tbody>\n",
       "</table>\n",
       "</div>"
      ],
      "text/plain": [
       "      movieId                                  title  \\\n",
       "314       356                    Forrest Gump (1994)   \n",
       "461       527                Schindler's List (1993)   \n",
       "613       778                   Trainspotting (1996)   \n",
       "659       858                  Godfather, The (1972)   \n",
       "1283     1703            For Richer or Poorer (1997)   \n",
       "1290     1719            Sweet Hereafter, The (1997)   \n",
       "1502     2027            Jane Austen's Mafia! (1998)   \n",
       "1938     2570             Walk on the Moon, A (1999)   \n",
       "2077     2761                 Iron Giant, The (1999)   \n",
       "2224     2953  Home Alone 2: Lost in New York (1992)   \n",
       "\n",
       "                                         genres  \n",
       "314                    Comedy|Drama|Romance|War  \n",
       "461                                   Drama|War  \n",
       "613                          Comedy|Crime|Drama  \n",
       "659                                 Crime|Drama  \n",
       "1283                                     Comedy  \n",
       "1290                                      Drama  \n",
       "1502                               Comedy|Crime  \n",
       "1938                              Drama|Romance  \n",
       "2077  Adventure|Animation|Children|Drama|Sci-Fi  \n",
       "2224                            Children|Comedy  "
      ]
     },
     "execution_count": 32,
     "metadata": {},
     "output_type": "execute_result"
    }
   ],
   "source": [
    "## check the recomended movies for user 123 using basic ALS\n",
    "movies_rec_idx = [movieId_lookup[r] for r in rec_arr[123,:]]\n",
    "movies.loc[movies['movieId'].isin(movies_rec_idx)]"
   ]
  },
  {
   "cell_type": "code",
   "execution_count": 33,
   "metadata": {},
   "outputs": [
    {
     "data": {
      "text/html": [
       "<div>\n",
       "<style scoped>\n",
       "    .dataframe tbody tr th:only-of-type {\n",
       "        vertical-align: middle;\n",
       "    }\n",
       "\n",
       "    .dataframe tbody tr th {\n",
       "        vertical-align: top;\n",
       "    }\n",
       "\n",
       "    .dataframe thead th {\n",
       "        text-align: right;\n",
       "    }\n",
       "</style>\n",
       "<table border=\"1\" class=\"dataframe\">\n",
       "  <thead>\n",
       "    <tr style=\"text-align: right;\">\n",
       "      <th></th>\n",
       "      <th>movieId</th>\n",
       "      <th>title</th>\n",
       "      <th>genres</th>\n",
       "    </tr>\n",
       "  </thead>\n",
       "  <tbody>\n",
       "    <tr>\n",
       "      <th>314</th>\n",
       "      <td>356</td>\n",
       "      <td>Forrest Gump (1994)</td>\n",
       "      <td>Comedy|Drama|Romance|War</td>\n",
       "    </tr>\n",
       "    <tr>\n",
       "      <th>461</th>\n",
       "      <td>527</td>\n",
       "      <td>Schindler's List (1993)</td>\n",
       "      <td>Drama|War</td>\n",
       "    </tr>\n",
       "    <tr>\n",
       "      <th>510</th>\n",
       "      <td>593</td>\n",
       "      <td>Silence of the Lambs, The (1991)</td>\n",
       "      <td>Crime|Horror|Thriller</td>\n",
       "    </tr>\n",
       "    <tr>\n",
       "      <th>613</th>\n",
       "      <td>778</td>\n",
       "      <td>Trainspotting (1996)</td>\n",
       "      <td>Comedy|Crime|Drama</td>\n",
       "    </tr>\n",
       "    <tr>\n",
       "      <th>659</th>\n",
       "      <td>858</td>\n",
       "      <td>Godfather, The (1972)</td>\n",
       "      <td>Crime|Drama</td>\n",
       "    </tr>\n",
       "    <tr>\n",
       "      <th>1283</th>\n",
       "      <td>1703</td>\n",
       "      <td>For Richer or Poorer (1997)</td>\n",
       "      <td>Comedy</td>\n",
       "    </tr>\n",
       "    <tr>\n",
       "      <th>1502</th>\n",
       "      <td>2027</td>\n",
       "      <td>Jane Austen's Mafia! (1998)</td>\n",
       "      <td>Comedy|Crime</td>\n",
       "    </tr>\n",
       "    <tr>\n",
       "      <th>1938</th>\n",
       "      <td>2570</td>\n",
       "      <td>Walk on the Moon, A (1999)</td>\n",
       "      <td>Drama|Romance</td>\n",
       "    </tr>\n",
       "    <tr>\n",
       "      <th>2077</th>\n",
       "      <td>2761</td>\n",
       "      <td>Iron Giant, The (1999)</td>\n",
       "      <td>Adventure|Animation|Children|Drama|Sci-Fi</td>\n",
       "    </tr>\n",
       "    <tr>\n",
       "      <th>2224</th>\n",
       "      <td>2953</td>\n",
       "      <td>Home Alone 2: Lost in New York (1992)</td>\n",
       "      <td>Children|Comedy</td>\n",
       "    </tr>\n",
       "  </tbody>\n",
       "</table>\n",
       "</div>"
      ],
      "text/plain": [
       "      movieId                                  title  \\\n",
       "314       356                    Forrest Gump (1994)   \n",
       "461       527                Schindler's List (1993)   \n",
       "510       593       Silence of the Lambs, The (1991)   \n",
       "613       778                   Trainspotting (1996)   \n",
       "659       858                  Godfather, The (1972)   \n",
       "1283     1703            For Richer or Poorer (1997)   \n",
       "1502     2027            Jane Austen's Mafia! (1998)   \n",
       "1938     2570             Walk on the Moon, A (1999)   \n",
       "2077     2761                 Iron Giant, The (1999)   \n",
       "2224     2953  Home Alone 2: Lost in New York (1992)   \n",
       "\n",
       "                                         genres  \n",
       "314                    Comedy|Drama|Romance|War  \n",
       "461                                   Drama|War  \n",
       "510                       Crime|Horror|Thriller  \n",
       "613                          Comedy|Crime|Drama  \n",
       "659                                 Crime|Drama  \n",
       "1283                                     Comedy  \n",
       "1502                               Comedy|Crime  \n",
       "1938                              Drama|Romance  \n",
       "2077  Adventure|Animation|Children|Drama|Sci-Fi  \n",
       "2224                            Children|Comedy  "
      ]
     },
     "execution_count": 33,
     "metadata": {},
     "output_type": "execute_result"
    }
   ],
   "source": [
    "## check the recomended movies for user 123 using imporved ALS\n",
    "movies_rec_idx_cg = [movieId_lookup[r] for r in rec_arr_cg[123,:]]\n",
    "movies.loc[movies['movieId'].isin(movies_rec_idx_cg)]"
   ]
  },
  {
   "cell_type": "code",
   "execution_count": 34,
   "metadata": {},
   "outputs": [
    {
     "data": {
      "text/html": [
       "<div>\n",
       "<style scoped>\n",
       "    .dataframe tbody tr th:only-of-type {\n",
       "        vertical-align: middle;\n",
       "    }\n",
       "\n",
       "    .dataframe tbody tr th {\n",
       "        vertical-align: top;\n",
       "    }\n",
       "\n",
       "    .dataframe thead th {\n",
       "        text-align: right;\n",
       "    }\n",
       "</style>\n",
       "<table border=\"1\" class=\"dataframe\">\n",
       "  <thead>\n",
       "    <tr style=\"text-align: right;\">\n",
       "      <th></th>\n",
       "      <th>movieId</th>\n",
       "      <th>title</th>\n",
       "      <th>genres</th>\n",
       "    </tr>\n",
       "  </thead>\n",
       "  <tbody>\n",
       "    <tr>\n",
       "      <th>314</th>\n",
       "      <td>356</td>\n",
       "      <td>Forrest Gump (1994)</td>\n",
       "      <td>Comedy|Drama|Romance|War</td>\n",
       "    </tr>\n",
       "    <tr>\n",
       "      <th>455</th>\n",
       "      <td>520</td>\n",
       "      <td>Robin Hood: Men in Tights (1993)</td>\n",
       "      <td>Comedy</td>\n",
       "    </tr>\n",
       "    <tr>\n",
       "      <th>510</th>\n",
       "      <td>593</td>\n",
       "      <td>Silence of the Lambs, The (1991)</td>\n",
       "      <td>Crime|Horror|Thriller</td>\n",
       "    </tr>\n",
       "    <tr>\n",
       "      <th>830</th>\n",
       "      <td>1091</td>\n",
       "      <td>Weekend at Bernie's (1989)</td>\n",
       "      <td>Comedy</td>\n",
       "    </tr>\n",
       "    <tr>\n",
       "      <th>2013</th>\n",
       "      <td>2682</td>\n",
       "      <td>Limbo (1999)</td>\n",
       "      <td>Drama</td>\n",
       "    </tr>\n",
       "    <tr>\n",
       "      <th>2370</th>\n",
       "      <td>3145</td>\n",
       "      <td>Cradle Will Rock (1999)</td>\n",
       "      <td>Drama</td>\n",
       "    </tr>\n",
       "    <tr>\n",
       "      <th>2448</th>\n",
       "      <td>3261</td>\n",
       "      <td>Singles (1992)</td>\n",
       "      <td>Comedy|Drama|Romance</td>\n",
       "    </tr>\n",
       "    <tr>\n",
       "      <th>2492</th>\n",
       "      <td>3326</td>\n",
       "      <td>What Planet Are You From? (2000)</td>\n",
       "      <td>Comedy|Sci-Fi</td>\n",
       "    </tr>\n",
       "    <tr>\n",
       "      <th>3970</th>\n",
       "      <td>5601</td>\n",
       "      <td>Yearling, The (1946)</td>\n",
       "      <td>Children|Drama</td>\n",
       "    </tr>\n",
       "    <tr>\n",
       "      <th>7374</th>\n",
       "      <td>79139</td>\n",
       "      <td>Sorcerer's Apprentice, The (2010)</td>\n",
       "      <td>Action|Adventure|Children|Comedy|Fantasy</td>\n",
       "    </tr>\n",
       "  </tbody>\n",
       "</table>\n",
       "</div>"
      ],
      "text/plain": [
       "      movieId                              title  \\\n",
       "314       356                Forrest Gump (1994)   \n",
       "455       520   Robin Hood: Men in Tights (1993)   \n",
       "510       593   Silence of the Lambs, The (1991)   \n",
       "830      1091         Weekend at Bernie's (1989)   \n",
       "2013     2682                       Limbo (1999)   \n",
       "2370     3145            Cradle Will Rock (1999)   \n",
       "2448     3261                     Singles (1992)   \n",
       "2492     3326   What Planet Are You From? (2000)   \n",
       "3970     5601               Yearling, The (1946)   \n",
       "7374    79139  Sorcerer's Apprentice, The (2010)   \n",
       "\n",
       "                                        genres  \n",
       "314                   Comedy|Drama|Romance|War  \n",
       "455                                     Comedy  \n",
       "510                      Crime|Horror|Thriller  \n",
       "830                                     Comedy  \n",
       "2013                                     Drama  \n",
       "2370                                     Drama  \n",
       "2448                      Comedy|Drama|Romance  \n",
       "2492                             Comedy|Sci-Fi  \n",
       "3970                            Children|Drama  \n",
       "7374  Action|Adventure|Children|Comedy|Fantasy  "
      ]
     },
     "execution_count": 34,
     "metadata": {},
     "output_type": "execute_result"
    }
   ],
   "source": [
    "## check the real movies watched by user 123 in test set\n",
    "movies_real_idx = [movieId_lookup[r] for r in true_arr[123,:]]\n",
    "movies.loc[movies['movieId'].isin(movies_real_idx)]"
   ]
  },
  {
   "cell_type": "code",
   "execution_count": null,
   "metadata": {},
   "outputs": [],
   "source": []
  }
 ],
 "metadata": {
  "kernelspec": {
   "display_name": "Python 3",
   "language": "python",
   "name": "python3"
  },
  "language_info": {
   "codemirror_mode": {
    "name": "ipython",
    "version": 3
   },
   "file_extension": ".py",
   "mimetype": "text/x-python",
   "name": "python",
   "nbconvert_exporter": "python",
   "pygments_lexer": "ipython3",
   "version": "3.7.6"
  }
 },
 "nbformat": 4,
 "nbformat_minor": 4
}
