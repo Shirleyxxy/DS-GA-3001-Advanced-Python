{
 "cells": [
  {
   "cell_type": "code",
   "execution_count": 1,
   "metadata": {},
   "outputs": [],
   "source": [
    "import numpy as np\n",
    "import pandas as pd\n",
    "import scipy.sparse as sparse\n",
    "import time\n",
    "from data_preparation import data_preprocess\n",
    "from model import implicit_als, implicit_als_cg\n",
    "from recommender import recommend, avg_precision"
   ]
  },
  {
   "cell_type": "markdown",
   "metadata": {},
   "source": [
    "## Preprocess data"
   ]
  },
  {
   "cell_type": "code",
   "execution_count": 2,
   "metadata": {},
   "outputs": [
    {
     "name": "stdout",
     "output_type": "stream",
     "text": [
      "Loading and preprocessing ratings data...\n",
      "Maximum number of movies watched by a user: 2698\n",
      "Minimum number of movies watched by a user: 20\n",
      "Select 10 movies for each user in test set\n",
      "Splitting data into train and test...\n",
      "Loading and preprocessing movies data...\n",
      "Generate lookup table for movie index...\n",
      "Done!\n"
     ]
    }
   ],
   "source": [
    "full_sparse, train_sparse, test_sparse, movies, movieId_lookup = data_preprocess('/Users/zihaoguo/NYU/ADPY/DS-GA-3001-Advanced-Python/data/ratings.csv', \\\n",
    "                                                                                 '/Users/zihaoguo/NYU/ADPY/DS-GA-3001-Advanced-Python/data/movies.csv',\n",
    "                                                                                 ['userId', 'movieId', 'rating'])"
   ]
  },
  {
   "cell_type": "markdown",
   "metadata": {},
   "source": [
    "## Model"
   ]
  },
  {
   "cell_type": "markdown",
   "metadata": {},
   "source": [
    "### ALS without conjugate gradient"
   ]
  },
  {
   "cell_type": "code",
   "execution_count": 103,
   "metadata": {},
   "outputs": [
    {
     "name": "stdout",
     "output_type": "stream",
     "text": [
      "iteration 1 of 20\n",
      "iteration 2 of 20\n",
      "iteration 3 of 20\n",
      "iteration 4 of 20\n",
      "iteration 5 of 20\n",
      "iteration 6 of 20\n",
      "iteration 7 of 20\n",
      "iteration 8 of 20\n",
      "iteration 9 of 20\n",
      "iteration 10 of 20\n",
      "iteration 11 of 20\n",
      "iteration 12 of 20\n",
      "iteration 13 of 20\n",
      "iteration 14 of 20\n",
      "iteration 15 of 20\n",
      "iteration 16 of 20\n",
      "iteration 17 of 20\n",
      "iteration 18 of 20\n",
      "iteration 19 of 20\n",
      "iteration 20 of 20\n",
      "training time without conjugate gradient: 467.6391589641571s\n"
     ]
    }
   ],
   "source": [
    "start = time.time()\n",
    "user_vecs, item_vecs = implicit_als(train_sparse, iterations=20, features=20, alpha_val=40)\n",
    "end = time.time()\n",
    "print('training time without conjugate gradient: {}s'.format(end-start))"
   ]
  },
  {
   "cell_type": "code",
   "execution_count": 5,
   "metadata": {},
   "outputs": [],
   "source": [
    "## Save models\n",
    "# sparse.save_npz(\"saved_models/users.npz\", user_vecs)\n",
    "# sparse.save_npz(\"saved_models/movies.npz\", item_vecs)"
   ]
  },
  {
   "cell_type": "code",
   "execution_count": 10,
   "metadata": {},
   "outputs": [],
   "source": [
    "## reload models\n",
    "user_vecs = sparse.load_npz(\"saved_models/users.npz\")\n",
    "item_vecs = sparse.load_npz(\"saved_models/movies.npz\")"
   ]
  },
  {
   "cell_type": "markdown",
   "metadata": {},
   "source": [
    "### Recommendation"
   ]
  },
  {
   "cell_type": "code",
   "execution_count": 4,
   "metadata": {},
   "outputs": [
    {
     "name": "stdout",
     "output_type": "stream",
     "text": [
      "The average prevision: 0.093\n"
     ]
    }
   ],
   "source": [
    "precision = avg_precision(train_sparse, test_sparse, user_vecs, item_vecs)"
   ]
  },
  {
   "cell_type": "markdown",
   "metadata": {},
   "source": [
    "### ALS with Conjugate Gradient"
   ]
  },
  {
   "cell_type": "code",
   "execution_count": 10,
   "metadata": {},
   "outputs": [
    {
     "name": "stdout",
     "output_type": "stream",
     "text": [
      "iteration 1 of 20\n",
      "iteration 2 of 20\n",
      "iteration 3 of 20\n",
      "iteration 4 of 20\n",
      "iteration 5 of 20\n",
      "iteration 6 of 20\n",
      "iteration 7 of 20\n",
      "iteration 8 of 20\n",
      "iteration 9 of 20\n",
      "iteration 10 of 20\n",
      "iteration 11 of 20\n",
      "iteration 12 of 20\n",
      "iteration 13 of 20\n",
      "iteration 14 of 20\n",
      "iteration 15 of 20\n",
      "iteration 16 of 20\n",
      "iteration 17 of 20\n",
      "iteration 18 of 20\n",
      "iteration 19 of 20\n",
      "iteration 20 of 20\n",
      "training time with conjugate gradient: 71.04452681541443s\n"
     ]
    }
   ],
   "source": [
    "start = time.time()\n",
    "alpha_val = 15\n",
    "conf_data = (train_sparse * alpha_val).astype('double')\n",
    "user_vecs_cg, item_vecs_cg = implicit_als_cg(conf_data, iterations=20, features=20)\n",
    "end = time.time()\n",
    "print('training time with conjugate gradient: {}s'.format(end-start))"
   ]
  },
  {
   "cell_type": "code",
   "execution_count": 12,
   "metadata": {},
   "outputs": [],
   "source": [
    "## Save models\n",
    "# sparse.save_npz(\"saved_models/users_cg.npz\", user_vecs_cg)\n",
    "# sparse.save_npz(\"saved_models/movies_cg.npz\", item_vecs_cg)"
   ]
  },
  {
   "cell_type": "code",
   "execution_count": 13,
   "metadata": {},
   "outputs": [],
   "source": [
    "## Reload models\n",
    "user_vecs_cg = sparse.load_npz(\"saved_models/users_cg.npz\")\n",
    "item_vecs_cg = sparse.load_npz(\"saved_models/movies_cg.npz\")"
   ]
  },
  {
   "cell_type": "markdown",
   "metadata": {},
   "source": [
    "### Recommendation"
   ]
  },
  {
   "cell_type": "code",
   "execution_count": 6,
   "metadata": {},
   "outputs": [
    {
     "name": "stdout",
     "output_type": "stream",
     "text": [
      "The average prevision: 0.134\n"
     ]
    }
   ],
   "source": [
    "avg_precision_cg = avg_precision(train_sparse, test_sparse, user_vecs_cg, item_vecs_cg)"
   ]
  },
  {
   "cell_type": "markdown",
   "metadata": {},
   "source": [
    "## Examine recommendation for user 4 using 2 ALS algorithms"
   ]
  },
  {
   "cell_type": "code",
   "execution_count": 7,
   "metadata": {},
   "outputs": [
    {
     "data": {
      "text/html": [
       "<div>\n",
       "<style scoped>\n",
       "    .dataframe tbody tr th:only-of-type {\n",
       "        vertical-align: middle;\n",
       "    }\n",
       "\n",
       "    .dataframe tbody tr th {\n",
       "        vertical-align: top;\n",
       "    }\n",
       "\n",
       "    .dataframe thead th {\n",
       "        text-align: right;\n",
       "    }\n",
       "</style>\n",
       "<table border=\"1\" class=\"dataframe\">\n",
       "  <thead>\n",
       "    <tr style=\"text-align: right;\">\n",
       "      <th></th>\n",
       "      <th>movieId</th>\n",
       "      <th>title</th>\n",
       "      <th>genres</th>\n",
       "    </tr>\n",
       "  </thead>\n",
       "  <tbody>\n",
       "    <tr>\n",
       "      <th>46</th>\n",
       "      <td>50</td>\n",
       "      <td>Usual Suspects, The (1995)</td>\n",
       "      <td>Crime|Mystery|Thriller</td>\n",
       "    </tr>\n",
       "    <tr>\n",
       "      <th>234</th>\n",
       "      <td>272</td>\n",
       "      <td>Madness of King George, The (1994)</td>\n",
       "      <td>Comedy|Drama</td>\n",
       "    </tr>\n",
       "    <tr>\n",
       "      <th>308</th>\n",
       "      <td>350</td>\n",
       "      <td>Client, The (1994)</td>\n",
       "      <td>Drama|Mystery|Thriller</td>\n",
       "    </tr>\n",
       "    <tr>\n",
       "      <th>314</th>\n",
       "      <td>356</td>\n",
       "      <td>Forrest Gump (1994)</td>\n",
       "      <td>Comedy|Drama|Romance|War</td>\n",
       "    </tr>\n",
       "    <tr>\n",
       "      <th>395</th>\n",
       "      <td>454</td>\n",
       "      <td>Firm, The (1993)</td>\n",
       "      <td>Drama|Thriller</td>\n",
       "    </tr>\n",
       "    <tr>\n",
       "      <th>418</th>\n",
       "      <td>480</td>\n",
       "      <td>Jurassic Park (1993)</td>\n",
       "      <td>Action|Adventure|Sci-Fi|Thriller</td>\n",
       "    </tr>\n",
       "    <tr>\n",
       "      <th>436</th>\n",
       "      <td>500</td>\n",
       "      <td>Mrs. Doubtfire (1993)</td>\n",
       "      <td>Comedy|Drama</td>\n",
       "    </tr>\n",
       "    <tr>\n",
       "      <th>450</th>\n",
       "      <td>515</td>\n",
       "      <td>Remains of the Day, The (1993)</td>\n",
       "      <td>Drama|Romance</td>\n",
       "    </tr>\n",
       "    <tr>\n",
       "      <th>510</th>\n",
       "      <td>593</td>\n",
       "      <td>Silence of the Lambs, The (1991)</td>\n",
       "      <td>Crime|Horror|Thriller</td>\n",
       "    </tr>\n",
       "    <tr>\n",
       "      <th>512</th>\n",
       "      <td>595</td>\n",
       "      <td>Beauty and the Beast (1991)</td>\n",
       "      <td>Animation|Children|Fantasy|Musical|Romance|IMAX</td>\n",
       "    </tr>\n",
       "  </tbody>\n",
       "</table>\n",
       "</div>"
      ],
      "text/plain": [
       "     movieId                               title  \\\n",
       "46        50          Usual Suspects, The (1995)   \n",
       "234      272  Madness of King George, The (1994)   \n",
       "308      350                  Client, The (1994)   \n",
       "314      356                 Forrest Gump (1994)   \n",
       "395      454                    Firm, The (1993)   \n",
       "418      480                Jurassic Park (1993)   \n",
       "436      500               Mrs. Doubtfire (1993)   \n",
       "450      515      Remains of the Day, The (1993)   \n",
       "510      593    Silence of the Lambs, The (1991)   \n",
       "512      595         Beauty and the Beast (1991)   \n",
       "\n",
       "                                              genres  \n",
       "46                            Crime|Mystery|Thriller  \n",
       "234                                     Comedy|Drama  \n",
       "308                           Drama|Mystery|Thriller  \n",
       "314                         Comedy|Drama|Romance|War  \n",
       "395                                   Drama|Thriller  \n",
       "418                 Action|Adventure|Sci-Fi|Thriller  \n",
       "436                                     Comedy|Drama  \n",
       "450                                    Drama|Romance  \n",
       "510                            Crime|Horror|Thriller  \n",
       "512  Animation|Children|Fantasy|Musical|Romance|IMAX  "
      ]
     },
     "execution_count": 7,
     "metadata": {},
     "output_type": "execute_result"
    }
   ],
   "source": [
    "## check the recomended movies for user 4 using basic ALS\n",
    "rec_list = recommend(4, train_sparse, user_vecs, item_vecs)\n",
    "movies_rec_idx = [movieId_lookup[r] for r in rec_list]\n",
    "movies.loc[movies['movieId'].isin(movies_rec_idx)]"
   ]
  },
  {
   "cell_type": "code",
   "execution_count": 8,
   "metadata": {},
   "outputs": [
    {
     "data": {
      "text/html": [
       "<div>\n",
       "<style scoped>\n",
       "    .dataframe tbody tr th:only-of-type {\n",
       "        vertical-align: middle;\n",
       "    }\n",
       "\n",
       "    .dataframe tbody tr th {\n",
       "        vertical-align: top;\n",
       "    }\n",
       "\n",
       "    .dataframe thead th {\n",
       "        text-align: right;\n",
       "    }\n",
       "</style>\n",
       "<table border=\"1\" class=\"dataframe\">\n",
       "  <thead>\n",
       "    <tr style=\"text-align: right;\">\n",
       "      <th></th>\n",
       "      <th>movieId</th>\n",
       "      <th>title</th>\n",
       "      <th>genres</th>\n",
       "    </tr>\n",
       "  </thead>\n",
       "  <tbody>\n",
       "    <tr>\n",
       "      <th>134</th>\n",
       "      <td>161</td>\n",
       "      <td>Crimson Tide (1995)</td>\n",
       "      <td>Drama|Thriller|War</td>\n",
       "    </tr>\n",
       "    <tr>\n",
       "      <th>297</th>\n",
       "      <td>339</td>\n",
       "      <td>While You Were Sleeping (1995)</td>\n",
       "      <td>Comedy|Romance</td>\n",
       "    </tr>\n",
       "    <tr>\n",
       "      <th>314</th>\n",
       "      <td>356</td>\n",
       "      <td>Forrest Gump (1994)</td>\n",
       "      <td>Comedy|Drama|Romance|War</td>\n",
       "    </tr>\n",
       "    <tr>\n",
       "      <th>395</th>\n",
       "      <td>454</td>\n",
       "      <td>Firm, The (1993)</td>\n",
       "      <td>Drama|Thriller</td>\n",
       "    </tr>\n",
       "    <tr>\n",
       "      <th>418</th>\n",
       "      <td>480</td>\n",
       "      <td>Jurassic Park (1993)</td>\n",
       "      <td>Action|Adventure|Sci-Fi|Thriller</td>\n",
       "    </tr>\n",
       "    <tr>\n",
       "      <th>436</th>\n",
       "      <td>500</td>\n",
       "      <td>Mrs. Doubtfire (1993)</td>\n",
       "      <td>Comedy|Drama</td>\n",
       "    </tr>\n",
       "    <tr>\n",
       "      <th>444</th>\n",
       "      <td>509</td>\n",
       "      <td>Piano, The (1993)</td>\n",
       "      <td>Drama|Romance</td>\n",
       "    </tr>\n",
       "    <tr>\n",
       "      <th>472</th>\n",
       "      <td>539</td>\n",
       "      <td>Sleepless in Seattle (1993)</td>\n",
       "      <td>Comedy|Drama|Romance</td>\n",
       "    </tr>\n",
       "    <tr>\n",
       "      <th>510</th>\n",
       "      <td>593</td>\n",
       "      <td>Silence of the Lambs, The (1991)</td>\n",
       "      <td>Crime|Horror|Thriller</td>\n",
       "    </tr>\n",
       "    <tr>\n",
       "      <th>512</th>\n",
       "      <td>595</td>\n",
       "      <td>Beauty and the Beast (1991)</td>\n",
       "      <td>Animation|Children|Fantasy|Musical|Romance|IMAX</td>\n",
       "    </tr>\n",
       "  </tbody>\n",
       "</table>\n",
       "</div>"
      ],
      "text/plain": [
       "     movieId                             title  \\\n",
       "134      161               Crimson Tide (1995)   \n",
       "297      339    While You Were Sleeping (1995)   \n",
       "314      356               Forrest Gump (1994)   \n",
       "395      454                  Firm, The (1993)   \n",
       "418      480              Jurassic Park (1993)   \n",
       "436      500             Mrs. Doubtfire (1993)   \n",
       "444      509                 Piano, The (1993)   \n",
       "472      539       Sleepless in Seattle (1993)   \n",
       "510      593  Silence of the Lambs, The (1991)   \n",
       "512      595       Beauty and the Beast (1991)   \n",
       "\n",
       "                                              genres  \n",
       "134                               Drama|Thriller|War  \n",
       "297                                   Comedy|Romance  \n",
       "314                         Comedy|Drama|Romance|War  \n",
       "395                                   Drama|Thriller  \n",
       "418                 Action|Adventure|Sci-Fi|Thriller  \n",
       "436                                     Comedy|Drama  \n",
       "444                                    Drama|Romance  \n",
       "472                             Comedy|Drama|Romance  \n",
       "510                            Crime|Horror|Thriller  \n",
       "512  Animation|Children|Fantasy|Musical|Romance|IMAX  "
      ]
     },
     "execution_count": 8,
     "metadata": {},
     "output_type": "execute_result"
    }
   ],
   "source": [
    "## check the recomended movies for user 4 using imporved ALS\n",
    "rec_list_cg = recommend(4, train_sparse, user_vecs_cg, item_vecs_cg)\n",
    "movies_rec_idx_cg = [movieId_lookup[r] for r in rec_list_cg]\n",
    "movies.loc[movies['movieId'].isin(movies_rec_idx_cg)]"
   ]
  },
  {
   "cell_type": "code",
   "execution_count": 9,
   "metadata": {},
   "outputs": [
    {
     "data": {
      "text/html": [
       "<div>\n",
       "<style scoped>\n",
       "    .dataframe tbody tr th:only-of-type {\n",
       "        vertical-align: middle;\n",
       "    }\n",
       "\n",
       "    .dataframe tbody tr th {\n",
       "        vertical-align: top;\n",
       "    }\n",
       "\n",
       "    .dataframe thead th {\n",
       "        text-align: right;\n",
       "    }\n",
       "</style>\n",
       "<table border=\"1\" class=\"dataframe\">\n",
       "  <thead>\n",
       "    <tr style=\"text-align: right;\">\n",
       "      <th></th>\n",
       "      <th>movieId</th>\n",
       "      <th>title</th>\n",
       "      <th>genres</th>\n",
       "    </tr>\n",
       "  </thead>\n",
       "  <tbody>\n",
       "    <tr>\n",
       "      <th>32</th>\n",
       "      <td>34</td>\n",
       "      <td>Babe (1995)</td>\n",
       "      <td>Children|Drama</td>\n",
       "    </tr>\n",
       "    <tr>\n",
       "      <th>46</th>\n",
       "      <td>50</td>\n",
       "      <td>Usual Suspects, The (1995)</td>\n",
       "      <td>Crime|Mystery|Thriller</td>\n",
       "    </tr>\n",
       "    <tr>\n",
       "      <th>126</th>\n",
       "      <td>153</td>\n",
       "      <td>Batman Forever (1995)</td>\n",
       "      <td>Action|Adventure|Comedy|Crime</td>\n",
       "    </tr>\n",
       "    <tr>\n",
       "      <th>211</th>\n",
       "      <td>247</td>\n",
       "      <td>Heavenly Creatures (1994)</td>\n",
       "      <td>Crime|Drama</td>\n",
       "    </tr>\n",
       "    <tr>\n",
       "      <th>251</th>\n",
       "      <td>290</td>\n",
       "      <td>Once Were Warriors (1994)</td>\n",
       "      <td>Crime|Drama</td>\n",
       "    </tr>\n",
       "    <tr>\n",
       "      <th>355</th>\n",
       "      <td>410</td>\n",
       "      <td>Addams Family Values (1993)</td>\n",
       "      <td>Children|Comedy|Fantasy</td>\n",
       "    </tr>\n",
       "    <tr>\n",
       "      <th>450</th>\n",
       "      <td>515</td>\n",
       "      <td>Remains of the Day, The (1993)</td>\n",
       "      <td>Drama|Romance</td>\n",
       "    </tr>\n",
       "    <tr>\n",
       "      <th>509</th>\n",
       "      <td>592</td>\n",
       "      <td>Batman (1989)</td>\n",
       "      <td>Action|Crime|Thriller</td>\n",
       "    </tr>\n",
       "    <tr>\n",
       "      <th>512</th>\n",
       "      <td>595</td>\n",
       "      <td>Beauty and the Beast (1991)</td>\n",
       "      <td>Animation|Children|Fantasy|Musical|Romance|IMAX</td>\n",
       "    </tr>\n",
       "    <tr>\n",
       "      <th>513</th>\n",
       "      <td>596</td>\n",
       "      <td>Pinocchio (1940)</td>\n",
       "      <td>Animation|Children|Fantasy|Musical</td>\n",
       "    </tr>\n",
       "  </tbody>\n",
       "</table>\n",
       "</div>"
      ],
      "text/plain": [
       "     movieId                           title  \\\n",
       "32        34                     Babe (1995)   \n",
       "46        50      Usual Suspects, The (1995)   \n",
       "126      153           Batman Forever (1995)   \n",
       "211      247       Heavenly Creatures (1994)   \n",
       "251      290       Once Were Warriors (1994)   \n",
       "355      410     Addams Family Values (1993)   \n",
       "450      515  Remains of the Day, The (1993)   \n",
       "509      592                   Batman (1989)   \n",
       "512      595     Beauty and the Beast (1991)   \n",
       "513      596                Pinocchio (1940)   \n",
       "\n",
       "                                              genres  \n",
       "32                                    Children|Drama  \n",
       "46                            Crime|Mystery|Thriller  \n",
       "126                    Action|Adventure|Comedy|Crime  \n",
       "211                                      Crime|Drama  \n",
       "251                                      Crime|Drama  \n",
       "355                          Children|Comedy|Fantasy  \n",
       "450                                    Drama|Romance  \n",
       "509                            Action|Crime|Thriller  \n",
       "512  Animation|Children|Fantasy|Musical|Romance|IMAX  \n",
       "513               Animation|Children|Fantasy|Musical  "
      ]
     },
     "execution_count": 9,
     "metadata": {},
     "output_type": "execute_result"
    }
   ],
   "source": [
    "## check the real movies watched by user 4 in test set\n",
    "real_list = test_sparse.toarray()[4].nonzero()[0]\n",
    "movies_real_idx = [movieId_lookup[r] for r in real_list]\n",
    "movies.loc[movies['movieId'].isin(movies_real_idx)]"
   ]
  },
  {
   "cell_type": "code",
   "execution_count": null,
   "metadata": {},
   "outputs": [],
   "source": []
  }
 ],
 "metadata": {
  "kernelspec": {
   "display_name": "Python 3",
   "language": "python",
   "name": "python3"
  },
  "language_info": {
   "codemirror_mode": {
    "name": "ipython",
    "version": 3
   },
   "file_extension": ".py",
   "mimetype": "text/x-python",
   "name": "python",
   "nbconvert_exporter": "python",
   "pygments_lexer": "ipython3",
   "version": "3.7.6"
  }
 },
 "nbformat": 4,
 "nbformat_minor": 4
}
